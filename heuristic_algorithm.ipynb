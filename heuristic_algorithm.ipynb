{
 "cells": [
  {
   "cell_type": "markdown",
   "metadata": {},
   "source": [
    "# **UWB IPS Heuristic Algorithm Experiments**"
   ]
  },
  {
   "cell_type": "markdown",
   "metadata": {},
   "source": [
    "## **0. Problem Statement**\n",
    "\n",
    "Given anchors position $\\mathbf{A}_0, \\mathbf{A}_1, ..., \\mathbf{A}_n$ and anchors range reading $r_0, r_1, ..., r_n$, we want to determine the best tag position $\\mathbf{P}$, subject to the following objective:\n",
    "\n",
    "$$\\min f(\\mathbf{\\mathbf{P}}) = \\sum_{0 \\leq i \\leq n} e_i^2$$\n",
    "\n",
    "where\n",
    "\n",
    "$$e_i = \\lVert\\mathbf{A}_i - \\mathbf{P}\\rVert - r_i$$\n",
    "\n",
    "Before we proceed to the demonstration, let's import some of the necessary assets."
   ]
  },
  {
   "cell_type": "code",
   "execution_count": 107,
   "metadata": {},
   "outputs": [
    {
     "name": "stdout",
     "output_type": "stream",
     "text": [
      "Anchors' position   :  [[0.0, 0.0, 0.0], [8.45, 0.0, 0.0], [8.45, 9.73, 0.0], [0.0, 9.73, 0.0]]\n",
      "Anchors' reading    :  [5.269259835101714, 6.569908307545969, 7.635564502089565, 6.525155470915509]\n",
      "Tags' pos. interval :  [0.5, 8.1], [0.5, 9.5], [0.0, 0.1]\n"
     ]
    }
   ],
   "source": [
    "import numpy as np\n",
    "import pandas as pd\n",
    "import yaml\n",
    "\n",
    "# import all dataset files\n",
    "DATASET_ID = '3ea8cd5a'\n",
    "DATA_ACTUAL_PATH = f'./data/{DATASET_ID}/actual.csv'\n",
    "DATA_READ_PATH = f'./data/{DATASET_ID}/read.csv'\n",
    "CONFIG_PATH = f'./data/{DATASET_ID}/generate.yaml'\n",
    "GENERATE_YAML = yaml.safe_load(open(CONFIG_PATH, 'r'))\n",
    "READ_CSV = pd.read_csv(DATA_READ_PATH).to_dict()\n",
    "\n",
    "# informations\n",
    "CHOOSE_IDX = np.random.randint(0, 51300)\n",
    "ANCHOR_NUM = GENERATE_YAML['anchor_num']\n",
    "ANCHOR_POS = [GENERATE_YAML[f'anchor{idx}'] for idx in range(ANCHOR_NUM)]\n",
    "ANCHOR_READING = [READ_CSV[f'anchor{idx}'][CHOOSE_IDX] for idx in range(ANCHOR_NUM)]\n",
    "TAG_POS = [READ_CSV[f'tag_x'][CHOOSE_IDX], READ_CSV[f'tag_y'][CHOOSE_IDX], READ_CSV[f'tag_z'][CHOOSE_IDX]]\n",
    "TAG_POS_X_RANGE = GENERATE_YAML['tag']['x_range']\n",
    "TAG_POS_Y_RANGE = GENERATE_YAML['tag']['y_range']\n",
    "TAG_POS_Z_RANGE = GENERATE_YAML['tag']['z_range']\n",
    "\n",
    "# printout the informations\n",
    "print(\"Anchors' position   : \", ANCHOR_POS)\n",
    "print(\"Anchors' reading    : \", ANCHOR_READING)\n",
    "print(f\"Tags' pos. interval :  {TAG_POS_X_RANGE}, {TAG_POS_Y_RANGE}, {TAG_POS_Z_RANGE}\")\n",
    "\n",
    "# repetitively used functions\n",
    "def calcError(guess_pos: list, anchor_pos: list, reading: float) -> float:\n",
    "    a = anchor_pos\n",
    "    p = guess_pos\n",
    "    r = reading\n",
    "    return np.sqrt((a[0] - p[0])**2.0 + (a[1] - p[1])**2.0 + (a[2] - p[2])**2.0) - r\n",
    "\n",
    "def calcObjective(guess_pos: list) -> float:\n",
    "    res = 0.0\n",
    "    for i in range(ANCHOR_NUM):\n",
    "        res += calcError(guess_pos, ANCHOR_POS[i], ANCHOR_READING[i])**2.0\n",
    "    return float(res)\n"
   ]
  },
  {
   "cell_type": "markdown",
   "metadata": {},
   "source": [
    "## **1. Grey-Wolf Optimizer**\n",
    "\n",
    "The Grey-Wolf Optimizer (GWO for short) works by determining the idea of wolf hunting. It works as follows."
   ]
  },
  {
   "cell_type": "markdown",
   "metadata": {},
   "source": [
    "### **1.1. Determine the Initial Parameters**\n",
    "\n",
    "Let's start by choosing the two parameters, the number of wolves and the number of iterations."
   ]
  },
  {
   "cell_type": "code",
   "execution_count": 108,
   "metadata": {},
   "outputs": [],
   "source": [
    "NUM_OF_WOLVES = 8\n",
    "NUM_OF_ITERATIONS = 200"
   ]
  },
  {
   "cell_type": "markdown",
   "metadata": {},
   "source": [
    "Wolves are scattered randomly inside the possible tag's position. From that, they start to smell their prey via the objective function."
   ]
  },
  {
   "cell_type": "code",
   "execution_count": 109,
   "metadata": {},
   "outputs": [
    {
     "name": "stdout",
     "output_type": "stream",
     "text": [
      "Wolves' position:  [[1.249936344783598, 7.406322028332688, 0.024870592590485865], [4.169115944486588, 9.374743187230376, 0.06966468058969057], [6.826155158296, 3.762122947596718, 0.09155992861435935], [3.3863612473916533, 1.0358457382434143, 0.05193626109789571], [7.42017259665345, 5.92946385683336, 0.02358460124677597], [4.728266271304081, 9.24875242616236, 0.07755753982707136], [3.3344985061533117, 9.252236553400536, 0.01221974766359032], [2.0900529248862747, 9.615407083239562, 0.03665921243672165]]\n",
      "Wolves' smelling:  [34.26895817097943, 55.49802314693291, 21.051680626757488, 18.702553959945647, 35.14607785757199, 55.96610695712759, 53.065634804904754, 66.74311041612752]\n"
     ]
    }
   ],
   "source": [
    "wolves_pos = []\n",
    "wolves_obj = []\n",
    "for i in range(NUM_OF_WOLVES):\n",
    "    wolves_pos.append([\n",
    "        TAG_POS_X_RANGE[0] + np.random.rand()*TAG_POS_X_RANGE[1], \n",
    "        TAG_POS_Y_RANGE[0] + np.random.rand()*TAG_POS_Y_RANGE[1], \n",
    "        TAG_POS_Z_RANGE[0] + np.random.rand()*TAG_POS_Z_RANGE[1]\n",
    "    ])\n",
    "    wolves_obj.append(calcObjective(wolves_pos[i]))\n",
    "\n",
    "print(\"Wolves' position: \", wolves_pos)\n",
    "print(\"Wolves' smelling: \", wolves_obj)"
   ]
  },
  {
   "cell_type": "markdown",
   "metadata": {},
   "source": [
    "Now for the final step in initialization, we determine the best three wolves which closest to the prey, namely alpha, beta, and omega."
   ]
  },
  {
   "cell_type": "code",
   "execution_count": 110,
   "metadata": {},
   "outputs": [
    {
     "name": "stdout",
     "output_type": "stream",
     "text": [
      "3 2 0\n"
     ]
    }
   ],
   "source": [
    "ordered_idx = sorted(range(NUM_OF_WOLVES), key=lambda i: wolves_obj[i])[:3]\n",
    "idx_alpha = ordered_idx[0]\n",
    "idx_beta = ordered_idx[1]\n",
    "idx_omega = ordered_idx[2]\n",
    "\n",
    "print(idx_alpha, idx_beta, idx_omega)"
   ]
  },
  {
   "cell_type": "markdown",
   "metadata": {},
   "source": [
    "### **1.2. The Iterations**\n",
    "\n",
    "Now, once the alpha, beta, and omega wolves are known, every wolves are starting to follow them, since the three smell their prey the best. To achieve this, we update each wolf one by one according to the algorithm's rule."
   ]
  },
  {
   "cell_type": "code",
   "execution_count": 111,
   "metadata": {},
   "outputs": [
    {
     "name": "stdout",
     "output_type": "stream",
     "text": [
      "Prey (tag) catched at:  [3.6775201062314817, 3.815287127329448, 0.053962235149060685]\n",
      "Actual prey location :  [3.2999999999999994, 4.1, 0.0]\n",
      "With objective of    :  0.40682959622035864\n"
     ]
    }
   ],
   "source": [
    "def updateWolf(a: float, current_wolf: list, alpha_wolf: list, beta_wolf: list, omega_wolf: list) -> list:\n",
    "    current = np.array(current_wolf)\n",
    "    alpha = np.array(alpha_wolf)\n",
    "    beta = np.array(beta_wolf)\n",
    "    omega = np.array(omega_wolf)\n",
    "\n",
    "    Aval = a*(2.0*np.random.rand() - 1.0)\n",
    "    Cval = 2.0*np.random.rand()\n",
    "    Dval = np.abs(Cval*alpha - current)\n",
    "    X1 = alpha - Aval*Dval\n",
    "\n",
    "    Aval = a*(2.0*np.random.rand() - 1.0)\n",
    "    Cval = 2.0*np.random.rand()\n",
    "    Dval = np.abs(Cval*beta - current)\n",
    "    X2 = beta - Aval*Dval\n",
    "\n",
    "    Aval = a*(2.0*np.random.rand() - 1.0)\n",
    "    Cval = 2.0*np.random.rand()\n",
    "    Dval = np.abs(Cval*omega - current)\n",
    "    X3 = omega - Aval*Dval\n",
    "\n",
    "    Xnew = (X1 + X2 + X3)/3.0\n",
    "    return Xnew.tolist() if calcObjective(Xnew.tolist()) < calcObjective(current_wolf) else current_wolf\n",
    "\n",
    "for it in range(NUM_OF_ITERATIONS):\n",
    "    a = 2.0*((it + 1)/NUM_OF_ITERATIONS)\n",
    "    \n",
    "    for i in range(NUM_OF_WOLVES):\n",
    "        wolves_pos[i] = updateWolf(a, wolves_pos[i], wolves_pos[idx_alpha], wolves_pos[idx_beta], wolves_pos[idx_omega])\n",
    "        wolves_obj[i] = calcObjective(wolves_pos[i])\n",
    "\n",
    "    ordered_idx = sorted(range(NUM_OF_WOLVES), key=lambda i: wolves_obj[i])[:3]\n",
    "    idx_alpha = ordered_idx[0]\n",
    "    idx_beta = ordered_idx[1]\n",
    "    idx_omega = ordered_idx[2]\n",
    "\n",
    "print(\"Prey (tag) catched at: \", wolves_pos[idx_alpha])\n",
    "print(\"Actual prey location : \", TAG_POS)\n",
    "print(\"With objective of    : \", wolves_obj[idx_alpha])"
   ]
  }
 ],
 "metadata": {
  "kernelspec": {
   "display_name": ".venv",
   "language": "python",
   "name": "python3"
  },
  "language_info": {
   "codemirror_mode": {
    "name": "ipython",
    "version": 3
   },
   "file_extension": ".py",
   "mimetype": "text/x-python",
   "name": "python",
   "nbconvert_exporter": "python",
   "pygments_lexer": "ipython3",
   "version": "3.12.7"
  }
 },
 "nbformat": 4,
 "nbformat_minor": 2
}
